{
 "cells": [
  {
   "cell_type": "markdown",
   "id": "cfa4c5d3",
   "metadata": {},
   "source": [
    "# Goals:\n",
    "- ### Find a dataset in Colabfit storage,\n",
    "- ### build and train a SNAP potential from this data. \n",
    "- ### Save the potential in KIMKit. \n",
    "- ### Install the potential in KIM API. \n",
    "- ### Run a simple LAMMPS simulation with the potential."
   ]
  },
  {
   "cell_type": "code",
   "execution_count": null,
   "id": "f05922db",
   "metadata": {
    "tags": []
   },
   "outputs": [],
   "source": [
    "from orchestrator.utils.setup_input import init_and_validate_module_type"
   ]
  },
  {
   "cell_type": "code",
   "execution_count": null,
   "id": "9ef5a108-0920-4d28-8362-f6f2563df576",
   "metadata": {
    "tags": []
   },
   "outputs": [],
   "source": [
    "# generate the input SNAP input file\n",
    "fitsnap_input_string = f'''[BISPECTRUM]\n",
    "numTypes = 1\n",
    "twojmax = 6\n",
    "rcutfac = 4.0\n",
    "rfac0 = 0.99363\n",
    "rmin0 = 0.0\n",
    "wj = 1.0\n",
    "radelem = 0.5\n",
    "type = C\n",
    "wselfallflag = 0\n",
    "chemflag = 0\n",
    "bzeroflag = 1\n",
    "quadraticflag = 0\n",
    "\n",
    "[CALCULATOR]\n",
    "calculator = LAMMPSSNAP\n",
    "energy = 0\n",
    "force = 1\n",
    "stress = 0\n",
    "\n",
    "[SOLVER]\n",
    "solver = SVD\n",
    "compute_testerrs = 1\n",
    "detailed_errors = 1\n",
    "\n",
    "[OUTFILE]\n",
    "output_style = SNAP\n",
    "metrics = trained_potential_metrics.md\n",
    "potential = trained_potential\n",
    "\n",
    "[REFERENCE]\n",
    "units = metal\n",
    "atom_style = atomic\n",
    "pair_style = zero 10.0\n",
    "pair_coeff = * *\n",
    "\n",
    "[EXTRAS]\n",
    "dump_descriptors = 1\n",
    "dump_truth = 1\n",
    "dump_weights = 1\n",
    "\n",
    "[MEMORY]\n",
    "override = 0\n",
    "'''\n",
    "\n",
    "file = open(\"./fitsnapC.in\",\"w\")\n",
    "file.write(fitsnap_input_string)\n",
    "file.close()"
   ]
  },
  {
   "cell_type": "markdown",
   "id": "43949aac",
   "metadata": {},
   "source": [
    "## Build the needed modules"
   ]
  },
  {
   "cell_type": "code",
   "execution_count": null,
   "id": "fb60e2f6",
   "metadata": {
    "tags": []
   },
   "outputs": [],
   "source": [
    "# argument dicts\n",
    "module_init =  {\n",
    "    \"storage\":{\n",
    "        \"storage_type\":\"COLABFIT\",\n",
    "        \"storage_args\":{\n",
    "            \"credential_file\":\"/usr/gapps/iap/kim-storage/iap-storage/test_colabfit_credentials.json\"\n",
    "        }\n",
    "    },\n",
    "    \"trainer\": {\n",
    "        \"trainer_type\": \"FitSnap\",\n",
    "        \"trainer_args\": {\n",
    "            \"eweight\": 0.5,\n",
    "            \"fweight\": 0.25,\n",
    "            \"vweight\": 0.25,\n",
    "        }\n",
    "    },\n",
    "    \"potential\": {\n",
    "        \"potential_type\": \"FitSnap\",\n",
    "        \"potential_args\": {\n",
    "            \"species\": [\"C\"],\n",
    "            \"settings_path\": \"fitsnapC.in\",\n",
    "            \"kim_api\": \"kim-api-collections-management\",\n",
    "            \"model_driver\": \"SNAP__MD_536750310735_001\", \n",
    "        }\n",
    "    },\n",
    "    \"simulator\": {\n",
    "        \"simulator_type\":\"LAMMPS\",\n",
    "        \"simulator_args\":{\n",
    "            \"code_path\":\"/p/vast1/iap/codes/lammps_stable_29Aug2024_update2/build_dane_intel-classic-2021.6.0/lmp\",\n",
    "            \"input_template\":\"lammps.in\",\n",
    "            \"elements\":[\"C\"]\n",
    "        },\n",
    "    }\n",
    "\n",
    "}\n",
    "\n",
    "# init modules\n",
    "potential = init_and_validate_module_type('potential', module_init)\n",
    "storage = init_and_validate_module_type('storage', module_init)\n",
    "trainer = init_and_validate_module_type('trainer', module_init)\n",
    "simulator = init_and_validate_module_type('simulator', module_init)"
   ]
  },
  {
   "cell_type": "markdown",
   "id": "2c89b1d4",
   "metadata": {},
   "source": [
    "## Train model using a ColabFit dataset"
   ]
  },
  {
   "cell_type": "code",
   "execution_count": null,
   "id": "f6c06e45",
   "metadata": {
    "tags": []
   },
   "outputs": [],
   "source": [
    "# train\n",
    "snap, loss = trainer.train(\n",
    "    path_type = 'example_training',\n",
    "    potential = potential,\n",
    "    storage = storage,\n",
    "    dataset_list=['DS_6ffgtpgzr3h1_0']\n",
    "    \n",
    "    \n",
    ")"
   ]
  },
  {
   "cell_type": "markdown",
   "id": "ce2e8d9f",
   "metadata": {},
   "source": [
    "##  Save and install potential"
   ]
  },
  {
   "cell_type": "code",
   "execution_count": null,
   "id": "94aa3d7e",
   "metadata": {
    "tags": []
   },
   "outputs": [],
   "source": [
    "# save the potential after training to use it later\n",
    "saved_path = trainer._save_model('model', potential, loss=loss)\n",
    "# install in KIM API to be available for LAMMPS\n",
    "potential.install_potential_in_kim_api(potential_name=potential.kim_id, install_locality='system')"
   ]
  },
  {
   "cell_type": "markdown",
   "id": "6c41184a",
   "metadata": {},
   "source": [
    "## Run Simulator"
   ]
  },
  {
   "cell_type": "code",
   "execution_count": null,
   "id": "d95a175c",
   "metadata": {
    "tags": []
   },
   "outputs": [],
   "source": [
    "# write template lammps file template\n",
    "template = '''kim init <MODEL_NAME> metal\n",
    "read_data conf.lmp\n",
    "kim interactions <ELEMENT>\n",
    "mass 1 28.086\n",
    "timestep 0.001\n",
    "velocity all create <TEMPERATURE> 4928459 rot yes dist gaussian\n",
    "fix 1 all npt temp <TEMPERATURE> <TEMPERATURE> 0.1 aniso <PRESSURE> <PRESSURE> 1.0\n",
    "dump 1 all custom 5 dump.lammpstrj id type x y z\n",
    "run 20\n",
    "'''\n",
    "with open('lammps.in', 'w') as f:\n",
    "    f.write(template)"
   ]
  },
  {
   "cell_type": "code",
   "execution_count": null,
   "id": "3d8b1de8",
   "metadata": {
    "tags": []
   },
   "outputs": [],
   "source": [
    "# arguments for running simulator - will replace the matched names from the template file\n",
    "input_args = {\n",
    "    \"temperature\": 300,\n",
    "    \"pressure\": 1,\n",
    "    \"model_name\": potential.kim_id,\n",
    "    \"element\": \"C\",\n",
    "}\n",
    "# generate input structures based on these configurations\n",
    "init_config_args = {\n",
    "    'make_config': True,\n",
    "    'config_handle': 'DS_6ffgtpgzr3h1_0',\n",
    "    'storage': storage,\n",
    "    'random_seed': 42,\n",
    "}\n",
    "\n",
    "# run simulator\n",
    "calc_id = simulator.run(\n",
    "    path_type='20_step_runs',\n",
    "    model_path=None,\n",
    "    input_args=input_args,\n",
    "    init_config_args= init_config_args,\n",
    "    # since workflow is not provided, use the simulator's default_wf\n",
    ")"
   ]
  },
  {
   "cell_type": "code",
   "execution_count": null,
   "id": "3b20e4a7-e6d6-4c2d-b595-99e6c66d6045",
   "metadata": {
    "tags": []
   },
   "outputs": [],
   "source": [
    "# grab the output trajectory\n",
    "import os\n",
    "output_trajectory = simulator.parse_for_storage(os.path.abspath(simulator.default_wf.get_job_path(1)))"
   ]
  },
  {
   "cell_type": "code",
   "execution_count": null,
   "id": "de58f406-1fdf-43ef-b405-4e328a0ac912",
   "metadata": {
    "tags": []
   },
   "outputs": [],
   "source": [
    "# note automatically generated metadata for source tracking\n",
    "output_trajectory[0].info"
   ]
  },
  {
   "cell_type": "code",
   "execution_count": null,
   "id": "99c5db35-78bd-41e9-8671-7da8eea71653",
   "metadata": {},
   "outputs": [],
   "source": []
  }
 ],
 "metadata": {
  "kernelspec": {
   "display_name": "snap example",
   "language": "python",
   "name": "snap_example"
  },
  "language_info": {
   "codemirror_mode": {
    "name": "ipython",
    "version": 3
   },
   "file_extension": ".py",
   "mimetype": "text/x-python",
   "name": "python",
   "nbconvert_exporter": "python",
   "pygments_lexer": "ipython3",
   "version": "3.10.18"
  }
 },
 "nbformat": 4,
 "nbformat_minor": 5
}
