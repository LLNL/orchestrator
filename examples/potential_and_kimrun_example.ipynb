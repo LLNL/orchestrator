{
 "cells": [
  {
   "cell_type": "markdown",
   "id": "1bccd574-db05-476c-9250-786e41bd1613",
   "metadata": {},
   "source": [
    "# Cohesive energy\n",
    "We will use the `KIMPotential` module to directly predict the energy of the system with respect to the lattice constant.\n",
    "We will then demonstrate an easier, more principled way of doing the same using the `KIMRun` module.\n",
    "\n",
    "```{note}\n",
    "As per the OpenKIM defination, Cohesive energy is the negative per-atom potential energy of the material\n",
    "```\n",
    "\n",
    "## Computing the Energy vs Lattice constant manually"
   ]
  },
  {
   "cell_type": "code",
   "execution_count": null,
   "id": "a219d5cc-4806-4065-93f8-450ead03654d",
   "metadata": {
    "tags": []
   },
   "outputs": [],
   "source": [
    "%matplotlib inline\n",
    "\n",
    "from orchestrator.potential.kim import KIMPotential\n",
    "from orchestrator.target_property.kimrun import KIMRun\n",
    "import numpy as np\n",
    "from ase.build import bulk\n",
    "import matplotlib.pyplot as plt"
   ]
  },
  {
   "cell_type": "markdown",
   "id": "838b2420-7988-43d6-b01f-f20dc8f86a3c",
   "metadata": {},
   "source": [
    "You can list all of the installed models using the `list_saved_potentials`,"
   ]
  },
  {
   "cell_type": "code",
   "execution_count": null,
   "id": "5bee0af2-e6bd-4f99-88ab-2c8206f01c50",
   "metadata": {
    "tags": []
   },
   "outputs": [],
   "source": [
    "KIMPotential.list_saved_potentials()"
   ]
  },
  {
   "cell_type": "markdown",
   "id": "758fcfaf-0e2c-40e5-b68a-b31f8daf4330",
   "metadata": {},
   "source": [
    "This should print all the available drivers and potentials on your system. Next step is to initialize the correct potential using the KIMPotential module. `KIMPotential` needs the model name, list of species, model driver name, and the path to `kim-api-collections-management` utility. This utility should be available in your environment path, so simply listing it should be sufficient. "
   ]
  },
  {
   "cell_type": "code",
   "execution_count": null,
   "id": "35f88107-46bc-4dd4-838c-f87b447e2523",
   "metadata": {
    "tags": []
   },
   "outputs": [],
   "source": [
    "potential = KIMPotential(\n",
    "    \"SW_StillingerWeber_1985_Si__MO_405512056662_006\",\n",
    "    [\"Si\"],\n",
    "    \"SW__MD_335816936951_005\",\n",
    "    \"kim-api-collections-management\",\n",
    ")"
   ]
  },
  {
   "cell_type": "markdown",
   "id": "c651500f-738c-4046-9aab-a5613567f8a0",
   "metadata": {},
   "source": [
    "Post initialization of the potential, you can use its `evaluate` method to directly compute the energy from `ase.Atoms` objects.\n",
    "Steps are:\n",
    "1. Create a grid of latice constants\n",
    "2. Create list of bulk configs of `ase.Atoms`\n",
    "3. Compute energy of each config "
   ]
  },
  {
   "cell_type": "code",
   "execution_count": null,
   "id": "709d1ae6-8a9e-498e-9bfe-c728ceb2a349",
   "metadata": {
    "tags": []
   },
   "outputs": [],
   "source": [
    "# Set up the lattice constant grid (A)\n",
    "a0    = 5.43           # approximate equilibrium lattice constant for Si\n",
    "da    = 0.15           # half-width of scan range\n",
    "npts  = 31             # number of points in the scan\n",
    "a_grid = np.linspace(a0 - da, a0 + da, npts)\n",
    "si_structures = [ bulk('Si', 'diamond', a=a) for a in a_grid ]\n",
    "# evaluate energies and normalize by number of atoms\n",
    "energies = [-potential.evaluate(c)[0]/len(c) for c in si_structures]"
   ]
  },
  {
   "cell_type": "markdown",
   "id": "240690a4-e098-4bbf-9732-61ab9805b63f",
   "metadata": {},
   "source": [
    "Now plotting it should show clearly show you the \"Energy vs Lattice constant\" curve, with minima at about 5.44 A."
   ]
  },
  {
   "cell_type": "code",
   "execution_count": null,
   "id": "4f57ecff-077e-45e1-9ddd-17b7d54fa1b0",
   "metadata": {
    "tags": []
   },
   "outputs": [],
   "source": [
    "plt.plot(a_grid, np.array(energies), 'o-')\n",
    "xlim, ylim = plt.xlim(), plt.ylim()\n",
    "plt.xlabel('Lattice constant (A)')\n",
    "plt.ylabel('Energy (eV)')\n",
    "plt.title('Lattice constant scan for Si using KIM potential')\n",
    "plt.savefig('lattice_constant_scan.png')"
   ]
  },
  {
   "cell_type": "markdown",
   "id": "ca5ff12f-3fc5-4e4d-a6a7-0605947f9178",
   "metadata": {},
   "source": [
    "## KIMRun: More dogmatic method for calculating properties\n",
    "\n",
    "Most of the common tests/property calculations, are already implemented in OpenKIM tests. `KIMRun` is a utility providing easy access to all of these tests. `KIMRun.calculate_property` can compute results for any KIM potential. It is also possible to pass the name of a potential saved in kimkit as the potential argument for `KIMRun.calculate_property`."
   ]
  },
  {
   "cell_type": "code",
   "execution_count": null,
   "id": "abb16fd2-c17e-4b63-85b0-6be3f3a529c0",
   "metadata": {
    "tags": []
   },
   "outputs": [],
   "source": [
    "my_kimrun = KIMRun(\"path_to_image\") # pass in path to KIM Developer Platform Singularity image\n",
    "\n",
    "potential = KIMPotential(\n",
    "    \"SW_StillingerWeber_1985_Si__MO_405512056662_006\",\n",
    "    [\"Si\"],\n",
    "    \"SW__MD_335816936951_005\",\n",
    "    \"kim-api-collections-management\",\n",
    ")\n",
    "\n",
    "results = my_kimrun.calculate_property(\n",
    "        potential = potential,\n",
    "        get_test_result_args = [\n",
    "                {\n",
    "                    \"test\": [\"CohesiveEnergyVsLatticeConstant_diamond_Si__TE_973027833948_004\"],\n",
    "                    \"prop\": [\"cohesive-energy-relation-cubic-crystal\"],\n",
    "                    \"keys\": [\"cohesive-potential-energy\", \"a\"],\n",
    "                    \"units\": [\"eV\", \"angstrom\"]\n",
    "                },\n",
    "             ]\n",
    "        )\n"
   ]
  },
  {
   "cell_type": "markdown",
   "id": "f46bfd1d-122d-4433-9f5a-ae43c85990f7",
   "metadata": {},
   "source": [
    "Here, `get_test_result_args` expects the following\n",
    "| key | explanation | example |\n",
    "|:---:|:-----------:|:-------:|\n",
    "|`test` | Openkim test to run (https://openkim.org/browse/tests/by-species) |CohesiveEnergyVsLatticeConstant_diamond_Si__TE_973027833948_004|\n",
    "|`prop` | property you want to compute, properties can be accessed by clicking on the desired test on link above, then clicking on hyperlikned `Properties` on the Test page | `cohesive-energy-relation-cubic-crystal`  |\n",
    "|`keys` | Property defination keys to report; `cohesive-energy-relation-cubic-crystal`  reports 4 keys you can pick from, `a`, `basis-atom-coordinates`, `cohesive-potential-energy`, `species`. From these we need `a`, and `cohesive-potential-energy`. | `cohesive-potential-energy`, `a` |\n",
    "|`units`| units of the reported keys properties |`eV`, `angstrom`|\n",
    "\n",
    "The output will be returned in a dictionary, with the values accessed via the\n",
    "key 'property_value'. The results are nested lists, with the first index\n",
    "associated with the number of tests (in this case just one), the second index\n",
    "associated with the results for a given test (again just one in this case), \n",
    "and the following index corresponding to the requested keys (energy and lattice\n",
    "parameter in this example)"
   ]
  },
  {
   "cell_type": "code",
   "execution_count": null,
   "id": "3ab1ae10-d22c-4835-9cb2-64801944bb92",
   "metadata": {
    "tags": []
   },
   "outputs": [],
   "source": [
    "# first nesting is getting results from the first (and only) test\n",
    "# second nesting is getting results from the first (and only) iteration of the test\n",
    "# thrid nesting is lists of the requested keys\n",
    "energy = results[\"property_value\"][0][0][0]\n",
    "a = results[\"property_value\"][0][0][1]\n",
    "\n",
    "energy = np.squeeze(energy)\n",
    "a = np.squeeze(a)\n",
    "\n",
    "\n",
    "fig, (ax1, ax2) = plt.subplots(1, 2)\n",
    "ax1.plot(a, energy, 'o-')\n",
    "ax1.set_xlim(xlim)\n",
    "ax1.set_ylim(ylim)\n",
    "ax2.plot(a, energy, 'o-')\n",
    "fig.supxlabel('Lattice constant (A)')\n",
    "fig.supylabel('Energy (eV)')\n",
    "fig.suptitle('Lattice constant scan for Si using KIM potential')\n",
    "plt.tight_layout()\n",
    "plt.savefig('cohesive_energy_lattice_const.png')\n"
   ]
  }
 ],
 "metadata": {
  "kernelspec": {
   "display_name": "My awesome kernel",
   "language": "python",
   "name": "orch"
  },
  "language_info": {
   "codemirror_mode": {
    "name": "ipython",
    "version": 3
   },
   "file_extension": ".py",
   "mimetype": "text/x-python",
   "name": "python",
   "nbconvert_exporter": "python",
   "pygments_lexer": "ipython3",
   "version": "3.10.17"
  }
 },
 "nbformat": 4,
 "nbformat_minor": 5
}
