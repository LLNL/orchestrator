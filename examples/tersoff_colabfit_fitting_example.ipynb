{
 "cells": [
  {
   "cell_type": "markdown",
   "id": "fe4c391f",
   "metadata": {},
   "source": [
    "# Fine-tuning a classical interatomic potential on a ColabFit dataset\n",
    "\n",
    "This notebook demonstrates fine-tuning Tersoff's 1988 potential for carbon using the Orchestrator functions for accessing the [KLIFF](https://kliff.readthedocs.io) fitting framework and the local instance of the [ColabFit](https://colabfit.org) database."
   ]
  },
  {
   "cell_type": "markdown",
   "id": "0f1f127f",
   "metadata": {},
   "source": [
    "First, let's find a dataset to train on by initializing a `storage` object and seeing what's available.\n",
    "\n",
    "---\n",
    "**NOTE**\n",
    "\n",
    "Throughout this example, we will be defining individual dictionaries as inputs to initialize modules for clarity. In practice, you may combine them into a single dictionary for convenience.\n",
    "\n",
    "---"
   ]
  },
  {
   "cell_type": "code",
   "execution_count": null,
   "id": "dbf37c14",
   "metadata": {
    "tags": []
   },
   "outputs": [],
   "source": [
    "from orchestrator.utils.setup_input import init_and_validate_module_type\n",
    "\n",
    "storage_input_dict = {\n",
    "    \"storage\":{\n",
    "        \"storage_type\":\"COLABFIT\",\n",
    "        \"storage_args\":{\n",
    "            \"credential_file\":\"/usr/gapps/iap/kim-storage/iap-storage/test_colabfit_credentials.json\"\n",
    "        }\n",
    "    }\n",
    "}\n",
    "\n",
    "storage = init_and_validate_module_type(\"storage\", storage_input_dict)\n",
    "\n",
    "print(storage.list_data())"
   ]
  },
  {
   "cell_type": "markdown",
   "id": "659f5e45",
   "metadata": {},
   "source": [
    "The first dataset, \"ChIMES_C_2_0_Small_model\", seems just fine for a demo. We will need to use its `colabfit-id`, `DS_rbzxtis1zggr_0`, later."
   ]
  },
  {
   "cell_type": "markdown",
   "id": "2c6fdeb3",
   "metadata": {},
   "source": [
    "To initialize the potential, we will install Tersoff's 1988 carbon model from OpenKIM, if it is not already installed. You can find the name of the model and its [dedicated page](https://openkim.org/id/Tersoff_LAMMPS_Tersoff_1988_C__MO_579868029681_004) by going to [openkim.org](https://openkim.org), choosing \"Browse->Models\", and searching for `C` under \"Narrow species selection\"."
   ]
  },
  {
   "cell_type": "code",
   "execution_count": null,
   "id": "4b0e3782",
   "metadata": {
    "tags": []
   },
   "outputs": [],
   "source": [
    "!kim-api-collections-management install system Tersoff_LAMMPS_Tersoff_1988_C__MO_579868029681_004"
   ]
  },
  {
   "cell_type": "markdown",
   "id": "9159750f",
   "metadata": {},
   "source": [
    "Now, let's create an Orchestrator `Potential` object from the OpenKIM model we installed:"
   ]
  },
  {
   "cell_type": "code",
   "execution_count": null,
   "id": "9472cf97",
   "metadata": {
    "tags": []
   },
   "outputs": [],
   "source": [
    "potential_input_dict = {\n",
    "    \"potential\":{\n",
    "        \"potential_type\":\"KIM\",\n",
    "        \"potential_args\":{\n",
    "            \"kim_id\":\"Tersoff_LAMMPS_Tersoff_1988_C__MO_579868029681_004\",\n",
    "            \"kim_api\":\"kim-api-collections-management\",\n",
    "            \"model_driver\": \"Tersoff_LAMMPS__MD_077075034781_005\",\n",
    "            \"species\":[\"C\"]\n",
    "        }\n",
    "    },\n",
    "}\n",
    "potential = init_and_validate_module_type(\"potential\", potential_input_dict)\n"
   ]
  },
  {
   "cell_type": "markdown",
   "id": "3eef890e",
   "metadata": {},
   "source": [
    "Next, we should examine what parameters the model exposes. There are several ways to do this, here we will use the KLIFF `model` object internal to the `Potential` object to inspect the parameters:"
   ]
  },
  {
   "cell_type": "code",
   "execution_count": null,
   "id": "20b6e646",
   "metadata": {
    "tags": []
   },
   "outputs": [],
   "source": [
    "potential.model.echo_model_params()"
   ]
  },
  {
   "cell_type": "markdown",
   "id": "76e8813d",
   "metadata": {},
   "source": [
    "To understand the meaning of these parameters, we should read the README or Wiki entry (if available) of the OpenKIM Model Driver powering the model. At the [bottom of the model's page](https://openkim.org/id/Tersoff_LAMMPS_Tersoff_1988_C__MO_579868029681_004#files), you can see that the model depends on the Model Driver [Tersoff_LAMMPS__MD_077075034781_005](https://openkim.org/id/Tersoff_LAMMPS__MD_077075034781_005). At the bottom of the Model Driver's page, there is a [Wiki entry](https://openkim.org/id/Tersoff_LAMMPS__MD_077075034781_005#wiki) explaining the parameters.\n",
    "\n",
    "If we tried to train all the parameters, we would find out that *m* is not optimizable (as it is an integer), and that *beta* causes an error if it goes negative (this is possible to handle, but we will simply omit it for simplicity). We also probably don't want to train the cutoffs, *Rc* and *Dc*."
   ]
  },
  {
   "cell_type": "markdown",
   "id": "00875f05",
   "metadata": {},
   "source": [
    "Before we do any training, let's take a look at a prediction of our potential on a configuration from the training dataset."
   ]
  },
  {
   "cell_type": "code",
   "execution_count": null,
   "id": "e788cfe7",
   "metadata": {
    "tags": []
   },
   "outputs": [],
   "source": [
    "import numpy as np\n",
    "dataset_handle = \"DS_rbzxtis1zggr_0\"\n",
    "example_config = storage.get_data(dataset_handle)[0]\n",
    "ref_forces = example_config.get_array(\"atomic_forces_forces\")\n",
    "_,forces,_ = potential.evaluate(example_config)\n",
    "print(f'Pre-training force error on first config: {np.linalg.norm(forces-ref_forces)}')"
   ]
  },
  {
   "cell_type": "markdown",
   "id": "521dbdbe",
   "metadata": {},
   "source": [
    "Now, set up the inputs to the `Trainer`and train the model."
   ]
  },
  {
   "cell_type": "code",
   "execution_count": null,
   "id": "a4a58469",
   "metadata": {
    "tags": []
   },
   "outputs": [],
   "source": [
    "trainer_input_dict = {\n",
    "    \"trainer\":{\n",
    "        \"trainer_type\":\"KLIFF\",\n",
    "        \"trainer_args\": {\n",
    "            \"params_to_update\": ['A', 'B', 'lambda1', 'lambda2', 'n', 'lambda3', 'gamma', 'c', 'd', 'h'], \n",
    "            \"loss_method\": \"mse\",\n",
    "            \"max_evals\": 1,\n",
    "            \"optimization_method\": \"L-BFGS-B\",\n",
    "            \"model_name\":potential.kim_id,\n",
    "            #\"model_driver\":potential.model_driver\n",
    "        }\n",
    "    }\n",
    "}\n",
    "\n",
    "trainer = init_and_validate_module_type(\"trainer\", trainer_input_dict)\n",
    "\n",
    "_, training_loss = trainer.train(\n",
    "    \"training_example\",\n",
    "    potential,\n",
    "    storage,\n",
    "    dataset_handle,\n",
    "    eweight=0.1, \n",
    "    fweight=1.0,\n",
    "    upload_to_kimkit=False,\n",
    ")"
   ]
  },
  {
   "cell_type": "markdown",
   "id": "80e93725",
   "metadata": {},
   "source": [
    "Now, we evaluate the model again, and rename the model to avoid collisions which will reinitialize its calculator. This will automatically install it into the KIM API. We can see that indeed the force error on the same configuration is lower than before."
   ]
  },
  {
   "cell_type": "code",
   "execution_count": null,
   "id": "4413b6a1",
   "metadata": {
    "tags": []
   },
   "outputs": [],
   "source": [
    "try:\n",
    "    del potential.model_calculator\n",
    "except AttributeError:\n",
    "    pass\n",
    "\n",
    "prefix = \"Tersoff_LAMMPS_Orchestrator_2025\"\n",
    "potential.generate_new_kim_id(id_prefix=prefix,kim_item_type='portable-model')\n",
    "\n",
    "try:\n",
    "    _,forces,_ = potential.evaluate(example_config)\n",
    "except FileExistsError:\n",
    "    try:\n",
    "        del potential.model_calculator\n",
    "    except AttributeError:\n",
    "        pass\n",
    "    potential.generate_new_kim_id(id_prefix=prefix,kim_item_type='portable-model')\n",
    "    _,forces,_ = potential.evaluate(example_config)\n",
    "    \n",
    "print(f'Post-training force error on first config: {np.linalg.norm(forces-ref_forces)}')"
   ]
  },
  {
   "cell_type": "markdown",
   "id": "d41ecbb2",
   "metadata": {},
   "source": [
    "To look at how the parameters have changed, let's once again use `potential.model.echo_model_params()`. Comparing with the previous output, we can see how they have changed."
   ]
  },
  {
   "cell_type": "code",
   "execution_count": null,
   "id": "d0df4b5d",
   "metadata": {
    "tags": []
   },
   "outputs": [],
   "source": [
    "potential.model.echo_model_params()"
   ]
  },
  {
   "cell_type": "markdown",
   "id": "79ac288e",
   "metadata": {},
   "source": [
    "The two cells below should clean everything you created out of your directories, KIM API, and KIMKit."
   ]
  },
  {
   "cell_type": "code",
   "execution_count": null,
   "id": "8729b795",
   "metadata": {
    "tags": []
   },
   "outputs": [],
   "source": [
    "import kimkit\n",
    "\n",
    "repository_list = kimkit.models.enumerate_repository()\n",
    "for item in repository_list:\n",
    "    if prefix in item:\n",
    "        try:\n",
    "            kimkit.models.delete(item)\n",
    "        except kimkit.src.config.NotRunAsEditorError:\n",
    "            pass"
   ]
  },
  {
   "cell_type": "code",
   "execution_count": null,
   "id": "95694ab2",
   "metadata": {
    "tags": []
   },
   "outputs": [],
   "source": [
    "!rm -r Tersoff_LAMMPS_Orchestrator_2025* Tersoff_LAMMPS_Tersoff_1988_C__MO_579868029681_004 *.log\n",
    "import os\n",
    "os.system(f\"kim-api-collections-management remove --force {potential.kim_id}\")"
   ]
  },
  {
   "cell_type": "code",
   "execution_count": null,
   "id": "733886eb-0552-4e83-8e64-62180e375a7d",
   "metadata": {},
   "outputs": [],
   "source": []
  }
 ],
 "metadata": {
  "kernelspec": {
   "display_name": "snap example",
   "language": "python",
   "name": "snap_example"
  },
  "language_info": {
   "codemirror_mode": {
    "name": "ipython",
    "version": 3
   },
   "file_extension": ".py",
   "mimetype": "text/x-python",
   "name": "python",
   "nbconvert_exporter": "python",
   "pygments_lexer": "ipython3",
   "version": "3.10.18"
  }
 },
 "nbformat": 4,
 "nbformat_minor": 5
}
